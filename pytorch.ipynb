{
 "cells": [
  {
   "cell_type": "markdown",
   "metadata": {},
   "source": [
    "# Pytorch Tutorial"
   ]
  },
  {
   "cell_type": "markdown",
   "metadata": {},
   "source": [
    "Pytorch is a popular deep learning framework and it's easy to get started."
   ]
  },
  {
   "cell_type": "code",
   "execution_count": 1,
   "metadata": {
    "collapsed": true
   },
   "outputs": [],
   "source": [
    "import torch\n",
    "import torch.nn as nn\n",
    "import torch.utils.data as data\n",
    "import torchvision\n",
    "import torchvision.transforms as transforms\n",
    "import torch.optim as optim\n",
    "from tqdm import tqdm\n",
    "import time\n",
    "import random\n",
    "\n",
    "BATCH_SIZE = 128\n",
    "NUM_EPOCHS = 10\n",
    "learning_rate = 0.01"
   ]
  },
  {
   "cell_type": "markdown",
   "metadata": {},
   "source": [
    "First, we read the mnist data, preprocess them and encapsulate them into dataloader form."
   ]
  },
  {
   "cell_type": "code",
   "execution_count": 2,
   "metadata": {
    "collapsed": true
   },
   "outputs": [],
   "source": [
    "# preprocessing\n",
    "normalize = transforms.Normalize(mean=[.5], std=[.5])\n",
    "transform = transforms.Compose([transforms.ToTensor(), normalize])\n",
    "\n",
    "# download and load the data\n",
    "train_dataset = torchvision.datasets.MNIST(root='./mnist/', train=True, transform=transform, download=True)\n",
    "test_dataset = torchvision.datasets.MNIST(root='./mnist/', train=False, transform=transform, download=False)\n",
    "\n",
    "# encapsulate them into dataloader form\n",
    "train_loader = data.DataLoader(train_dataset, batch_size=BATCH_SIZE, shuffle=True, drop_last=True)\n",
    "test_loader = data.DataLoader(test_dataset, batch_size=BATCH_SIZE, shuffle=False, drop_last=True)"
   ]
  },
  {
   "cell_type": "markdown",
   "metadata": {},
   "source": [
    "Then, we define the model, object function and optimizer that we use to classify."
   ]
  },
  {
   "cell_type": "code",
   "execution_count": 3,
   "metadata": {
    "collapsed": true
   },
   "outputs": [],
   "source": [
    "class SimpleNet(nn.Module):\n",
    "# TODO:define model\n",
    "    def __init__(self):\n",
    "        super(SimpleNet, self).__init__()\n",
    "        self.conv1 = nn.Sequential(      # input 1*28*28\n",
    "            nn.Conv2d(1, 6, 5, 1, 2),    # padding=2\n",
    "            nn.ReLU(),                   # input 6*28*28\n",
    "            nn.MaxPool2d(kernel_size=2, stride=2), # output 6*14*14\n",
    "        )\n",
    "        self.conv2 = nn.Sequential(      # input 6*14*14\n",
    "            nn.Conv2d(6, 16, 5),\n",
    "            nn.ReLU(),                   # input 16*10*10\n",
    "            nn.MaxPool2d(2, 2),          # output 16*5*5\n",
    "        )\n",
    "        self.fc1 = nn.Sequential(\n",
    "            nn.Linear(16 * 5 * 5, 120),\n",
    "            nn.ReLU(),\n",
    "        )\n",
    "        self.fc2 = nn.Sequential(\n",
    "            nn.Linear(120, 84),\n",
    "            nn.ReLU()\n",
    "        )\n",
    "        self.fc3 = nn.Linear(84, 10)\n",
    "    def forward(self, x):\n",
    "        x = self.conv1(x)\n",
    "        x = self.conv2(x)\n",
    "        x = x.view(x.size()[0], -1)\n",
    "        x = self.fc1(x)\n",
    "        x = self.fc2(x)\n",
    "        x = self.fc3(x)\n",
    "        return x\n",
    "\n",
    "model = SimpleNet()\n",
    "\n",
    "# TODO:define loss function and optimiter\n",
    "criterion = nn.CrossEntropyLoss()\n",
    "optimizer = optim.SGD(model.parameters(), lr=learning_rate, momentum=0.9)"
   ]
  },
  {
   "cell_type": "markdown",
   "metadata": {},
   "source": [
    "Next, we can start to train and evaluate!"
   ]
  },
  {
   "cell_type": "code",
   "execution_count": 4,
   "metadata": {
    "collapsed": true,
    "scrolled": true,
    "tags": []
   },
   "outputs": [
    {
     "output_type": "stream",
     "name": "stderr",
     "text": [
      "100%|██████████| 468/468 [00:14<00:00, 33.29it/s]\n",
      "100%|██████████| 78/78 [00:01<00:00, 55.01it/s]\n",
      "  1%|          | 5/468 [00:00<00:11, 41.66it/s]\tepoch1 train loss: 0.730 test accuracy:96%\n",
      "100%|██████████| 468/468 [00:12<00:00, 38.22it/s]\n",
      "100%|██████████| 78/78 [00:01<00:00, 55.55it/s]\n",
      "  1%|          | 5/468 [00:00<00:11, 39.06it/s]\tepoch2 train loss: 0.097 test accuracy:98%\n",
      "100%|██████████| 468/468 [00:12<00:00, 37.58it/s]\n",
      "100%|██████████| 78/78 [00:01<00:00, 51.62it/s]\n",
      "  1%|          | 4/468 [00:00<00:13, 35.19it/s]\tepoch3 train loss: 0.067 test accuracy:98%\n",
      "100%|██████████| 468/468 [00:13<00:00, 33.70it/s]\n",
      "100%|██████████| 78/78 [00:01<00:00, 47.15it/s]\n",
      "  1%|          | 3/468 [00:00<00:16, 28.53it/s]\tepoch4 train loss: 0.053 test accuracy:98%\n",
      "100%|██████████| 468/468 [00:13<00:00, 34.15it/s]\n",
      "100%|██████████| 78/78 [00:01<00:00, 47.28it/s]\n",
      "  1%|          | 4/468 [00:00<00:13, 33.33it/s]\tepoch5 train loss: 0.044 test accuracy:98%\n",
      "100%|██████████| 468/468 [00:13<00:00, 34.14it/s]\n",
      "100%|██████████| 78/78 [00:01<00:00, 48.48it/s]\n",
      "  1%|          | 3/468 [00:00<00:16, 28.84it/s]\tepoch6 train loss: 0.037 test accuracy:98%\n",
      "100%|██████████| 468/468 [00:13<00:00, 34.25it/s]\n",
      "100%|██████████| 78/78 [00:01<00:00, 49.04it/s]\n",
      "  1%|          | 4/468 [00:00<00:12, 35.71it/s]\tepoch7 train loss: 0.031 test accuracy:98%\n",
      "100%|██████████| 468/468 [00:13<00:00, 33.62it/s]\n",
      "100%|██████████| 78/78 [00:01<00:00, 48.45it/s]\n",
      "  1%|          | 4/468 [00:00<00:12, 35.71it/s]\tepoch8 train loss: 0.026 test accuracy:98%\n",
      "100%|██████████| 468/468 [00:13<00:00, 34.38it/s]\n",
      "100%|██████████| 78/78 [00:01<00:00, 46.95it/s]\n",
      "  1%|          | 4/468 [00:00<00:14, 33.00it/s]\tepoch9 train loss: 0.024 test accuracy:98%\n",
      "100%|██████████| 468/468 [00:13<00:00, 34.10it/s]\n",
      "100%|██████████| 78/78 [00:01<00:00, 48.47it/s]\tepoch10 train loss: 0.021 test accuracy:98%\n",
      "\n"
     ]
    }
   ],
   "source": [
    "# train and evaluate\n",
    "for epoch in range(NUM_EPOCHS):\n",
    "    train_loss = 0\n",
    "    cnt = 0\n",
    "\n",
    "    for images, labels in tqdm(train_loader):\n",
    "        # TODO:forward + backward + optimize    \n",
    "        optimizer.zero_grad()\n",
    "        outputs = model(images)\n",
    "        loss = criterion(outputs, labels)\n",
    "        loss.backward()\n",
    "        optimizer.step()\n",
    "\n",
    "        train_loss += loss.item()\n",
    "        cnt += 1\n",
    "    # evaluate\n",
    "    # TODO:calculate the accuracy using traning and testing dataset\n",
    "    with torch.no_grad():\n",
    "        acc = 0\n",
    "        total = 0\n",
    "        for images, labels in tqdm(test_loader):\n",
    "            outputs = model(images)\n",
    "            predicted = torch.max(outputs.data, 1)[1]\n",
    "            total += labels.size(0)\n",
    "            acc += (predicted == labels).sum()\n",
    "\n",
    "    print('\\tepoch%d train loss: %.03f test accuracy:%d%%'\n",
    "                        % (epoch + 1, train_loss / cnt, 100 * acc / total))"
   ]
  },
  {
   "cell_type": "markdown",
   "metadata": {},
   "source": [
    "#### Q5:\n",
    "Please print the training and testing accuracy."
   ]
  },
  {
   "cell_type": "code",
   "execution_count": 5,
   "metadata": {},
   "outputs": [
    {
     "output_type": "stream",
     "name": "stderr",
     "text": [
      "100%|██████████| 468/468 [00:09<00:00, 48.66it/s]\n",
      "100%|██████████| 78/78 [00:01<00:00, 48.87it/s]\ttrain accuracy: 99% test accuracy:98%\n",
      "\n"
     ]
    }
   ],
   "source": [
    "# train and evaluate\n",
    "for epoch in range(1):\n",
    "    train_acc = 0\n",
    "    cnt = 0\n",
    "    for images, labels in tqdm(train_loader):\n",
    "        # TODO:forward + backward + optimize    \n",
    "        optimizer.zero_grad()\n",
    "        outputs = model(images)\n",
    "        predicted = torch.max(outputs.data, 1)[1]\n",
    "        cnt += labels.size(0)\n",
    "        train_acc += (predicted == labels).sum()\n",
    "    # evaluate\n",
    "    # TODO:calculate the accuracy using traning and testing dataset\n",
    "    with torch.no_grad():\n",
    "        test_acc = 0\n",
    "        total = 0\n",
    "        for images, labels in tqdm(test_loader):\n",
    "            outputs = model(images)\n",
    "            predicted = torch.max(outputs.data, 1)[1]\n",
    "            total += labels.size(0)\n",
    "            test_acc += (predicted == labels).sum()\n",
    "\n",
    "    print('\\ttrain accuracy: %d%% test accuracy:%d%%'\n",
    "                        % (100 * train_acc / cnt, 100 * test_acc / total))"
   ]
  }
 ],
 "metadata": {
  "kernelspec": {
   "name": "python385jvsc74a57bd038d3b5aeb7f0b0a88d4be572db6d03ac3ec313c14a9816a087f5b274c4d96293",
   "display_name": "Python 3.8.5 64-bit ('base': conda)"
  },
  "language_info": {
   "codemirror_mode": {
    "name": "ipython",
    "version": 3
   },
   "file_extension": ".py",
   "mimetype": "text/x-python",
   "name": "python",
   "nbconvert_exporter": "python",
   "pygments_lexer": "ipython3",
   "version": "3.8.5"
  }
 },
 "nbformat": 4,
 "nbformat_minor": 2
}